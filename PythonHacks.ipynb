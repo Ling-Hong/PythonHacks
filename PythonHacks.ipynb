{
 "cells": [
  {
   "cell_type": "markdown",
   "metadata": {},
   "source": [
    "# Unpacking"
   ]
  },
  {
   "cell_type": "code",
   "execution_count": 65,
   "metadata": {},
   "outputs": [
    {
     "name": "stdout",
     "output_type": "stream",
     "text": [
      "1\n",
      "2\n",
      "3\n"
     ]
    }
   ],
   "source": [
    "a , b, c = (1, 2, 3)\n",
    "print(a)\n",
    "print(b)\n",
    "print(c)"
   ]
  },
  {
   "cell_type": "markdown",
   "metadata": {},
   "source": [
    "# Output format"
   ]
  },
  {
   "cell_type": "markdown",
   "metadata": {},
   "source": [
    "https://www.python-course.eu/python3_formatted_output.php"
   ]
  },
  {
   "cell_type": "code",
   "execution_count": 31,
   "metadata": {},
   "outputs": [
    {
     "name": "stdout",
     "output_type": "stream",
     "text": [
      "Amount: 100, Price: 20.33\n",
      "The number of items she purchased is 100 and the price for each item is 32.11\n",
      "The value is 12,345,678\n",
      "The capital of China is Beijing\n"
     ]
    }
   ],
   "source": [
    "# pythonic way: use str.format()\n",
    "print('Amount: {0:3d}, Price: {1:3.2f}'.format(100,20.33))\n",
    "print('The number of items she purchased is {0:d} and the price for each item is {1:.2f}'.format(100,32.11))\n",
    "print('The value is {:6,d}'.format(12345678))\n",
    "print('The capital of {0:s} is {1:s}'.format('China','Beijing'))"
   ]
  },
  {
   "cell_type": "code",
   "execution_count": 35,
   "metadata": {},
   "outputs": [
    {
     "name": "stdout",
     "output_type": "stream",
     "text": [
      "The capital of China is Beijing\n",
      "\n",
      "\n",
      "The capital of United States is Washington\n",
      "The capital of US is Washington\n",
      "The capital of Canada is Ottawa\n",
      "The capital of Germany is Berlin\n",
      "The capital of France is Paris\n",
      "The capital of England is London\n",
      "The capital of UK is London\n",
      "The capital of Switzerland is Bern\n",
      "The capital of Austria is Vienna\n",
      "The capital of Netherlands is Amsterdam\n"
     ]
    }
   ],
   "source": [
    "# use dictionary in format\n",
    "print('The capital of {country} is {capital}'.format(country='China', capital='Beijing'))\n",
    "\n",
    "capital_country = {\"United States\" : \"Washington\", \n",
    "                   \"US\" : \"Washington\", \n",
    "                   \"Canada\" : \"Ottawa\",\n",
    "                   \"Germany\": \"Berlin\",\n",
    "                   \"France\" : \"Paris\",\n",
    "                   \"England\" : \"London\",\n",
    "                   \"UK\" : \"London\",\n",
    "                   \"Switzerland\" : \"Bern\",\n",
    "                   \"Austria\" : \"Vienna\",\n",
    "                   \"Netherlands\" : \"Amsterdam\"}\n",
    "\n",
    "print('\\n')\n",
    "format_string = 'The capital of {country} is {capital}'\n",
    "for c in capital_country:\n",
    "    print(format_string.format(country=c, capital=capital_country[c]))    "
   ]
  },
  {
   "cell_type": "code",
   "execution_count": 37,
   "metadata": {},
   "outputs": [
    {
     "data": {
      "text/plain": [
       "'******Beijing*******'"
      ]
     },
     "execution_count": 37,
     "metadata": {},
     "output_type": "execute_result"
    }
   ],
   "source": [
    "# other string methods\n",
    "\"Beijing\".center(20,'*')"
   ]
  },
  {
   "cell_type": "markdown",
   "metadata": {},
   "source": [
    "# Functional programming, map()"
   ]
  },
  {
   "cell_type": "markdown",
   "metadata": {},
   "source": [
    "syntax -- map(function, iterable1, iterable2 ... )\n",
    "iterable can be list, dictionary, tuple, set, string"
   ]
  },
  {
   "cell_type": "code",
   "execution_count": 48,
   "metadata": {},
   "outputs": [
    {
     "name": "stdout",
     "output_type": "stream",
     "text": [
      "<map object at 0x10a08b5f8>\n",
      "10\n",
      "4\n",
      "3\n"
     ]
    }
   ],
   "source": [
    "# compare prices from two stores\n",
    "store1 = [10,6,3]\n",
    "store2 = [11,4,7]\n",
    "cheapest = map(min, store1, store2)\n",
    "\n",
    "# min() won't be called unless we are really looking into the value\n",
    "# map is iterable\n",
    "print(cheapest)\n",
    "for i in cheapest:\n",
    "    print(i)"
   ]
  },
  {
   "cell_type": "markdown",
   "metadata": {},
   "source": [
    "# Lambda"
   ]
  },
  {
   "cell_type": "markdown",
   "metadata": {},
   "source": [
    "- create a anonymmous function\n",
    "- cannnot have default value or complex logic\n",
    "- lambda [input1, input2, input3...] : [expression of return value]"
   ]
  },
  {
   "cell_type": "code",
   "execution_count": 96,
   "metadata": {},
   "outputs": [
    {
     "data": {
      "text/plain": [
       "'Leonhard Euler'"
      ]
     },
     "execution_count": 96,
     "metadata": {},
     "output_type": "execute_result"
    }
   ],
   "source": [
    "# lambda with more than one input\n",
    "\n",
    "full_name = lambda fname, lname: fname.strip().title() + \" \" + lname.strip().title()\n",
    "full_name('  leonhaRd','EULER')"
   ]
  },
  {
   "cell_type": "code",
   "execution_count": 97,
   "metadata": {},
   "outputs": [
    {
     "name": "stdout",
     "output_type": "stream",
     "text": [
      "['Issac Asimov', 'Ray Bradbury', 'Robert Heinlein']\n"
     ]
    }
   ],
   "source": [
    "# common example : sorting data \n",
    "# pass a function as an argument to sort() function\n",
    "\n",
    "scifi_authors = ['Ray Bradbury', 'Robert Heinlein','Issac Asimov']\n",
    "scifi_authors.sort(key = lambda name:name.split(' ')[-1].lower())\n",
    "print(scifi_authors)"
   ]
  },
  {
   "cell_type": "code",
   "execution_count": 98,
   "metadata": {},
   "outputs": [
    {
     "name": "stdout",
     "output_type": "stream",
     "text": [
      "13\n",
      "13\n",
      "13\n"
     ]
    }
   ],
   "source": [
    "# build a function that returns a function\n",
    "\n",
    "def build_quadratic_function(a,b,c):\n",
    "    return lambda x:a*x*x + b*x +c\n",
    "\n",
    "f = build_quadratic_function(2,3,-1)\n",
    "print(2*2*2+3*2-1)\n",
    "print(f(2))\n",
    "\n",
    "# another way to write, less readable tho\n",
    "print(build_quadratic_function(2,3,-1)(2))"
   ]
  },
  {
   "cell_type": "markdown",
   "metadata": {},
   "source": [
    "# Combine lambda and map()"
   ]
  },
  {
   "cell_type": "code",
   "execution_count": 135,
   "metadata": {},
   "outputs": [
    {
     "name": "stdout",
     "output_type": "stream",
     "text": [
      "Dr. Brooks\n",
      "Dr. Collins-Thompson\n",
      "Dr. Vydiswaran\n",
      "Dr. Romero\n"
     ]
    }
   ],
   "source": [
    "# option 1\n",
    "people = ['Dr. Christopher Brooks', 'Dr. Kevyn Collins-Thompson', 'Dr. VG Vinod Vydiswaran', 'Dr. Daniel Romero']\n",
    "\n",
    "split = lambda x:x.split(' ')[0] + ' ' + x.split(' ')[-1]\n",
    "for i in list(map(split,people)):\n",
    "    print(i)"
   ]
  },
  {
   "cell_type": "code",
   "execution_count": 165,
   "metadata": {
    "collapsed": true
   },
   "outputs": [
    {
     "name": "stdout",
     "output_type": "stream",
     "text": [
      "5\n",
      "7\n",
      "9\n"
     ]
    },
    {
     "ename": "TypeError",
     "evalue": "'list' object is not callable",
     "output_type": "error",
     "traceback": [
      "\u001b[0;31m---------------------------------------------------------------------------\u001b[0m",
      "\u001b[0;31mTypeError\u001b[0m                                 Traceback (most recent call last)",
      "\u001b[0;32m<ipython-input-165-fdad12f2a557>\u001b[0m in \u001b[0;36m<module>\u001b[0;34m()\u001b[0m\n\u001b[1;32m      8\u001b[0m \u001b[0;34m\u001b[0m\u001b[0m\n\u001b[1;32m      9\u001b[0m \u001b[0;31m# use list comprehension\u001b[0m\u001b[0;34m\u001b[0m\u001b[0;34m\u001b[0m\u001b[0m\n\u001b[0;32m---> 10\u001b[0;31m \u001b[0msum_2\u001b[0m \u001b[0;34m=\u001b[0m \u001b[0;34m[\u001b[0m\u001b[0msum\u001b[0m\u001b[0;34m(\u001b[0m\u001b[0mx\u001b[0m\u001b[0;34m)\u001b[0m \u001b[0;32mfor\u001b[0m \u001b[0mx\u001b[0m \u001b[0;32min\u001b[0m \u001b[0mzip\u001b[0m\u001b[0;34m(\u001b[0m\u001b[0mlist1\u001b[0m\u001b[0;34m,\u001b[0m\u001b[0mlist2\u001b[0m\u001b[0;34m)\u001b[0m\u001b[0;34m]\u001b[0m\u001b[0;34m\u001b[0m\u001b[0m\n\u001b[0m\u001b[1;32m     11\u001b[0m \u001b[0mprint\u001b[0m\u001b[0;34m(\u001b[0m\u001b[0msum_2\u001b[0m\u001b[0;34m)\u001b[0m\u001b[0;34m\u001b[0m\u001b[0m\n",
      "\u001b[0;32m<ipython-input-165-fdad12f2a557>\u001b[0m in \u001b[0;36m<listcomp>\u001b[0;34m(.0)\u001b[0m\n\u001b[1;32m      8\u001b[0m \u001b[0;34m\u001b[0m\u001b[0m\n\u001b[1;32m      9\u001b[0m \u001b[0;31m# use list comprehension\u001b[0m\u001b[0;34m\u001b[0m\u001b[0;34m\u001b[0m\u001b[0m\n\u001b[0;32m---> 10\u001b[0;31m \u001b[0msum_2\u001b[0m \u001b[0;34m=\u001b[0m \u001b[0;34m[\u001b[0m\u001b[0msum\u001b[0m\u001b[0;34m(\u001b[0m\u001b[0mx\u001b[0m\u001b[0;34m)\u001b[0m \u001b[0;32mfor\u001b[0m \u001b[0mx\u001b[0m \u001b[0;32min\u001b[0m \u001b[0mzip\u001b[0m\u001b[0;34m(\u001b[0m\u001b[0mlist1\u001b[0m\u001b[0;34m,\u001b[0m\u001b[0mlist2\u001b[0m\u001b[0;34m)\u001b[0m\u001b[0;34m]\u001b[0m\u001b[0;34m\u001b[0m\u001b[0m\n\u001b[0m\u001b[1;32m     11\u001b[0m \u001b[0mprint\u001b[0m\u001b[0;34m(\u001b[0m\u001b[0msum_2\u001b[0m\u001b[0;34m)\u001b[0m\u001b[0;34m\u001b[0m\u001b[0m\n",
      "\u001b[0;31mTypeError\u001b[0m: 'list' object is not callable"
     ]
    }
   ],
   "source": [
    "# element-wise add of lists\n",
    "list1 = [1, 2, 3]\n",
    "list2 = [4, 5, 6]\n",
    "\n",
    "# use map\n",
    "for i in map(lambda x,y:x+y, list1, list2):\n",
    "    print(i)\n",
    "\n",
    "# use list comprehension \n",
    "sum_2 = [sum(x) for x in zip(list1,list2)]\n",
    "print(sum_2)"
   ]
  },
  {
   "cell_type": "markdown",
   "metadata": {},
   "source": [
    "# Zip()"
   ]
  },
  {
   "cell_type": "markdown",
   "metadata": {},
   "source": [
    "- zip takes n number of iterables and returns list of tuples. ith element of the tuple is created using the ith element from each of the iterables\n",
    "- python 3 uses lazy evalution. It won't return a list directly but instead, a zip object\n",
    "- unzip use zip() too but takes the zip object as input"
   ]
  },
  {
   "cell_type": "code",
   "execution_count": 172,
   "metadata": {},
   "outputs": [
    {
     "name": "stdout",
     "output_type": "stream",
     "text": [
      "[(1, 'a'), (2, 'b'), (3, 'c'), (4, 'd'), (5, 'e')]\n"
     ]
    }
   ],
   "source": [
    "list_a = [1, 2, 3, 4, 5]\n",
    "list_b = ['a', 'b', 'c', 'd', 'e']\n",
    "\n",
    "# zip a list\n",
    "zipped_list = zip(list_a, list_b)\n",
    "\n",
    "# convert the zip object to a list\n",
    "print(list(zipped_list))\n",
    "\n",
    "# iterate through the zip object\n",
    "for i in zipped_list:\n",
    "    print(i)"
   ]
  },
  {
   "cell_type": "code",
   "execution_count": null,
   "metadata": {
    "collapsed": true
   },
   "outputs": [],
   "source": [
    "# unzip a list, it works in Spyder\n",
    "list1, list2 = zip(*zipped_list)\n",
    "print(list1)\n",
    "print(list2)"
   ]
  },
  {
   "cell_type": "code",
   "execution_count": 175,
   "metadata": {},
   "outputs": [
    {
     "name": "stdout",
     "output_type": "stream",
     "text": [
      "The score of Sachin is 100\n",
      "The score of Sehwag is 15\n",
      "The score of Gambhir is 17\n",
      "The score of Dravid is 28\n",
      "The score of Raina is 43\n"
     ]
    }
   ],
   "source": [
    "# use zip() to format output\n",
    "players = [ \"Sachin\", \"Sehwag\", \"Gambhir\", \"Dravid\", \"Raina\" ]\n",
    "scores = [100, 15, 17, 28, 43 ]\n",
    "\n",
    "for player, score in zip(players,scores):\n",
    "    print('The score of %s is %d'%(player, score))"
   ]
  },
  {
   "cell_type": "markdown",
   "metadata": {},
   "source": [
    "# List comprehension"
   ]
  },
  {
   "cell_type": "markdown",
   "metadata": {},
   "source": [
    "- create an empty list and set a loop to add items is tedious\n",
    "- list comprehension allows people to create a list in a single line\n",
    "- **general expression** : [expression for value in collection]\n",
    "- **use if condition** : [expression for value in collection if 1 and 2]\n",
    "- **look for value in more than 1 collection** : [expression for value in collection1 for value in collection2]"
   ]
  },
  {
   "cell_type": "code",
   "execution_count": 101,
   "metadata": {},
   "outputs": [
    {
     "name": "stdout",
     "output_type": "stream",
     "text": [
      "[1, 4, 9, 16, 25, 36, 49, 64, 81, 100, 121, 144, 169, 196, 225, 256, 289, 324, 361, 400, 441, 484, 529, 576, 625, 676, 729, 784, 841, 900, 961, 1024, 1089, 1156, 1225, 1296, 1369, 1444, 1521, 1600, 1681, 1764, 1849, 1936, 2025, 2116, 2209, 2304, 2401, 2500, 2601, 2704, 2809, 2916, 3025, 3136, 3249, 3364, 3481, 3600, 3721, 3844, 3969, 4096, 4225, 4356, 4489, 4624, 4761, 4900, 5041, 5184, 5329, 5476, 5625, 5776, 5929, 6084, 6241, 6400, 6561, 6724, 6889, 7056, 7225, 7396, 7569, 7744, 7921, 8100, 8281, 8464, 8649, 8836, 9025, 9216, 9409, 9604, 9801, 10000]\n",
      "\n",
      "\n",
      "[1, 4, 9, 16, 25, 36, 49, 64, 81, 100, 121, 144, 169, 196, 225, 256, 289, 324, 361, 400, 441, 484, 529, 576, 625, 676, 729, 784, 841, 900, 961, 1024, 1089, 1156, 1225, 1296, 1369, 1444, 1521, 1600, 1681, 1764, 1849, 1936, 2025, 2116, 2209, 2304, 2401, 2500, 2601, 2704, 2809, 2916, 3025, 3136, 3249, 3364, 3481, 3600, 3721, 3844, 3969, 4096, 4225, 4356, 4489, 4624, 4761, 4900, 5041, 5184, 5329, 5476, 5625, 5776, 5929, 6084, 6241, 6400, 6561, 6724, 6889, 7056, 7225, 7396, 7569, 7744, 7921, 8100, 8281, 8464, 8649, 8836, 9025, 9216, 9409, 9604, 9801, 10000]\n"
     ]
    }
   ],
   "source": [
    "# without list comprehension\n",
    "squares = []\n",
    "for i in range(1,101):\n",
    "    squares.append(i**2)\n",
    "\n",
    "# with list comprehension\n",
    "squares2 = [x**2 for x in range(1,101)]\n",
    "\n",
    "print(squares)\n",
    "print('\\n')\n",
    "print(squares2) "
   ]
  },
  {
   "cell_type": "code",
   "execution_count": 120,
   "metadata": {},
   "outputs": [
    {
     "name": "stdout",
     "output_type": "stream",
     "text": [
      "[2, 3, 4, 6, 7, 9, 10, 12, 15, 16, 19, 21, 22, 24, 27, 30, 31, 34, 36, 37, 40, 42, 45, 49, 50, 51, 53, 54, 56, 63, 65, 68, 69, 74, 75, 78, 81, 83, 86, 89, 90, 95, 96, 98, 99]\n",
      "[2.0, 3.0, 4.0, 6.0, 7.0, 9.0, 10.0, 12.0, 15.0, 16.0, 19.0, 21.0, 22.0, 24.0, 27.0, 30.0, 31.0, 34.0, 36.0, 37.0, 40.0, 42.0, 45.0, 49.0, 51.0, 52.0, 54.0, 55.0, 57.0, 64.0, 66.0, 69.0, 70.0, 75.0, 76.0, 79.0, 82.0, 84.0, 87.0, 90.0, 91.0, 96.0, 97.0, 99.0, 100.0]\n"
     ]
    }
   ],
   "source": [
    "# quadratic reciprocity\n",
    "\n",
    "prime_num = [3, 5, 7, 11, 13, 17, 19, 23, 29, 31, 37, 41, 43, 47, 53, 59, 61, 67, 71, 73, 79, 83, 89, 97, 101, 103, 107, 109, 113, 127, 131, 137, 139, 149, 151, 157, 163, 167, 173, 179, 181, 191, 193, 197, 199]\n",
    "remainder_count = [len(set([x**2%p for x in range(1,101)])) for p in prime_num]\n",
    "print(remainder_count)\n",
    "\n",
    "theory = [(p+1)/2 for p in prime_num]\n",
    "print(theory)"
   ]
  },
  {
   "cell_type": "code",
   "execution_count": 129,
   "metadata": {},
   "outputs": [
    {
     "name": "stdout",
     "output_type": "stream",
     "text": [
      "['Gandhi', 'Gone with the wind']\n",
      "['Star Wars', 'Gandhi', 'Casablanca', 'Rear Window']\n"
     ]
    }
   ],
   "source": [
    "# find the movie that starts with letter 'G'\n",
    "# use if condition\n",
    "\n",
    "movies = ['Star Wars', 'Gandhi', 'Casablanca', 'Gone with the wind', 'Rear Window']\n",
    "gmovies = [title for title in movies if title.startswith('G')]\n",
    "print(gmovies)\n",
    "\n",
    "# find the movies that are released before(include) 2000\n",
    "movies = [('Star Wars',1998), ('Gandhi',2000), ('Casablanca',1997), ('Gone with the wind',2005), ('Rear Window',1993)]\n",
    "movies2000 = [title for (title,year) in movies if year<=2000]\n",
    "print(movies2000)"
   ]
  },
  {
   "cell_type": "code",
   "execution_count": 185,
   "metadata": {},
   "outputs": [
    {
     "name": "stdout",
     "output_type": "stream",
     "text": [
      "[7, 10]\n"
     ]
    }
   ],
   "source": [
    "# common example: filtering data\n",
    "\n",
    "num_list = [1,3,5,7,10]\n",
    "result_list = [i for i in num_list if i > 5]\n",
    "print(result_list)"
   ]
  },
  {
   "cell_type": "code",
   "execution_count": 130,
   "metadata": {},
   "outputs": [
    {
     "name": "stdout",
     "output_type": "stream",
     "text": [
      "[2, 3, 1, 2, 3, 1, 2, 3, 1, 2, 3, 1]\n",
      "[8, 12, 4]\n"
     ]
    }
   ],
   "source": [
    "# scalar multiplication\n",
    "v = [2,3,1]\n",
    "\n",
    "# wrong operation\n",
    "print(4*v)\n",
    "\n",
    "# use list comprehension\n",
    "print([4*item for item in v])"
   ]
  },
  {
   "cell_type": "code",
   "execution_count": 133,
   "metadata": {},
   "outputs": [
    {
     "name": "stdout",
     "output_type": "stream",
     "text": [
      "[(1, 2), (1, 4), (1, 6), (1, 8), (3, 2), (3, 4), (3, 6), (3, 8), (5, 2), (5, 4), (5, 6), (5, 8), (7, 2), (7, 4), (7, 6), (7, 8)]\n"
     ]
    }
   ],
   "source": [
    "# cartesian product\n",
    "A = [1,3,5,7]\n",
    "B = [2,4,6,8]\n",
    "cartesian_product = [(a,b) for a in A for b in B]\n",
    "print(cartesian_product)"
   ]
  },
  {
   "cell_type": "markdown",
   "metadata": {
    "collapsed": true
   },
   "source": [
    "# Filter()"
   ]
  },
  {
   "cell_type": "markdown",
   "metadata": {},
   "source": [
    "The filter() function in Python takes in a function and a list as arguments. This offers an elegant way to filter out all the elements of a sequence “sequence”, for which the function returns True."
   ]
  },
  {
   "cell_type": "code",
   "execution_count": 191,
   "metadata": {},
   "outputs": [
    {
     "name": "stdout",
     "output_type": "stream",
     "text": [
      "[65, 39, 221]\n",
      "[65, 39, 221]\n"
     ]
    }
   ],
   "source": [
    "my_list = [12, 65, 54, 39, 102, 339, 221, 50, 70]\n",
    "\n",
    "# use filter\n",
    "result = list(filter(lambda x:x%13==0, my_list))\n",
    "print(result)\n",
    "\n",
    "# use list comprehension\n",
    "# I prefer list comprehension. It's more readable\n",
    "result2 = [x for x in my_list if x%13==0]\n",
    "print(result2)"
   ]
  },
  {
   "cell_type": "markdown",
   "metadata": {
    "collapsed": true
   },
   "source": [
    "# Generator"
   ]
  },
  {
   "cell_type": "markdown",
   "metadata": {},
   "source": [
    "- Sometimes the list is so large that merely creating it would consume all of the system's memory. \n",
    "- To work around this, one may want to be able to call get_primes with a start value and get all the primes larger than start\n",
    "- generator can simply return the next value instead of all the values at once. It wouldn't need to create a list at all. No list, no memory issues. \n",
    "- If the body of a def contains yield, the function automatically becomes a generator function (even if it also contains a return statement).\n",
    "- To be considered an iterator, generators must define a few methods, one of which is __next__(). \n",
    "- To get the next value from a generator, we use the same built-in function as for iterators: next().\n",
    "-  You can \"send\" values to a generator using the generator's send method."
   ]
  },
  {
   "cell_type": "code",
   "execution_count": 9,
   "metadata": {
    "collapsed": true
   },
   "outputs": [],
   "source": [
    "# an ordinary iterable\n",
    "# a list that stores prime numbers\n",
    "import math\n",
    "def get_prime(num_list):\n",
    "    prime_list = [i for i in num_list if is_prime()]\n",
    "    return prime_list\n",
    "\n",
    "def is_prime(number):\n",
    "    if number > 1:\n",
    "        if number == 2:\n",
    "            return True\n",
    "        if number % 2 == 0:\n",
    "            return False\n",
    "        for current in range(3, int(math.sqrt(number) + 1), 2):\n",
    "            if number % current == 0: \n",
    "                return False\n",
    "        return True\n",
    "    return False"
   ]
  },
  {
   "cell_type": "code",
   "execution_count": 10,
   "metadata": {},
   "outputs": [
    {
     "name": "stdout",
     "output_type": "stream",
     "text": [
      "1\n",
      "2\n",
      "3\n"
     ]
    },
    {
     "data": {
      "text/plain": [
       "2"
      ]
     },
     "execution_count": 10,
     "metadata": {},
     "output_type": "execute_result"
    }
   ],
   "source": [
    "# a simple generator \n",
    "def simple_generator():\n",
    "    yield 1\n",
    "    yield 2\n",
    "    yield 3\n",
    "\n",
    "# one way to use it : print out\n",
    "for value in simple_generator():\n",
    "    print(value)\n",
    "\n",
    "# another way to use it : next()\n",
    "num_gen = simple_generator()\n",
    "next(num_gen)\n",
    "next(num_gen)"
   ]
  },
  {
   "cell_type": "code",
   "execution_count": 11,
   "metadata": {},
   "outputs": [
    {
     "name": "stdout",
     "output_type": "stream",
     "text": [
      "11\n",
      "13\n",
      "17\n",
      "19\n",
      "23\n"
     ]
    }
   ],
   "source": [
    "# generator version\n",
    "# num is the start number\n",
    "# use while True so that it won't hit the end of iteration if the first number is not a prime number\n",
    "def prime_gen(num):\n",
    "    while True:\n",
    "        if is_prime(num):\n",
    "            yield num\n",
    "        num = num + 1\n",
    "\n",
    "prime_gen_test = prime_gen(10)\n",
    "print(next(prime_gen_test))\n",
    "print(next(prime_gen_test))\n",
    "print(next(prime_gen_test))\n",
    "print(next(prime_gen_test))\n",
    "print(next(prime_gen_test))"
   ]
  },
  {
   "cell_type": "code",
   "execution_count": 12,
   "metadata": {},
   "outputs": [
    {
     "name": "stdout",
     "output_type": "stream",
     "text": [
      "11\n",
      "13\n",
      "17\n",
      "19\n",
      "23\n",
      "29\n",
      "31\n",
      "37\n",
      "41\n",
      "43\n",
      "47\n",
      "53\n",
      "59\n",
      "61\n",
      "67\n",
      "71\n",
      "73\n",
      "79\n",
      "83\n",
      "89\n",
      "97\n"
     ]
    },
    {
     "ename": "StopIteration",
     "evalue": "",
     "output_type": "error",
     "traceback": [
      "\u001b[0;31m---------------------------------------------------------------------------\u001b[0m",
      "\u001b[0;31mStopIteration\u001b[0m                             Traceback (most recent call last)",
      "\u001b[0;32m<ipython-input-12-c623d933ea05>\u001b[0m in \u001b[0;36m<module>\u001b[0;34m()\u001b[0m\n\u001b[1;32m     13\u001b[0m \u001b[0;34m\u001b[0m\u001b[0m\n\u001b[1;32m     14\u001b[0m \u001b[0;31m# after we have exhausted all the numbers in the iterable, the 'StopIteration' will be raised\u001b[0m\u001b[0;34m\u001b[0m\u001b[0;34m\u001b[0m\u001b[0m\n\u001b[0;32m---> 15\u001b[0;31m \u001b[0mnext\u001b[0m\u001b[0;34m(\u001b[0m\u001b[0mprime_gen_test\u001b[0m\u001b[0;34m)\u001b[0m\u001b[0;34m\u001b[0m\u001b[0m\n\u001b[0m",
      "\u001b[0;31mStopIteration\u001b[0m: "
     ]
    }
   ],
   "source": [
    "# to set an upper limit\n",
    "# if there is no upper limit, the loop will run forever to infinite when you are iterating over the prime_gen_test\n",
    "def prime_gen(num,upper=100):\n",
    "    while num<=upper:\n",
    "        if is_prime(num):\n",
    "            yield num\n",
    "        num = num + 1\n",
    "\n",
    "prime_gen_test = prime_gen(10,100)\n",
    "\n",
    "for value in prime_gen_test:\n",
    "    print(value)\n",
    "    \n",
    "# after we have exhausted all the numbers in the iterable, the 'StopIteration' will be raised\n",
    "next(prime_gen_test)"
   ]
  },
  {
   "cell_type": "code",
   "execution_count": 13,
   "metadata": {},
   "outputs": [
    {
     "data": {
      "text/plain": [
       "11"
      ]
     },
     "execution_count": 13,
     "metadata": {},
     "output_type": "execute_result"
    }
   ],
   "source": [
    "# if we want to restart, we can create a new generator\n",
    "prime_gen_test2 = prime_gen(10,100)\n",
    "next(prime_gen_test2)"
   ]
  },
  {
   "cell_type": "code",
   "execution_count": 14,
   "metadata": {
    "collapsed": true
   },
   "outputs": [],
   "source": [
    "# we'll find the smallest prime number greater than successive powers of a number \n",
    "# for 10, we want the smallest prime greater than 10, then 100, then 1000, etc.\n",
    "\n",
    "def successive_prime(base, power_limit):\n",
    "    prime_list = []\n",
    "    for power in range(1,power_limit+1):\n",
    "        start = base**power\n",
    "        prime_generator = prime_gen(start,100)\n",
    "        prime_list.append(next(prime_generator))\n",
    "    return prime_list"
   ]
  },
  {
   "cell_type": "code",
   "execution_count": null,
   "metadata": {
    "collapsed": true
   },
   "outputs": [],
   "source": [
    "successive_prime(2,5)"
   ]
  },
  {
   "cell_type": "markdown",
   "metadata": {},
   "source": [
    "# why send() is not working??"
   ]
  },
  {
   "cell_type": "code",
   "execution_count": 15,
   "metadata": {
    "collapsed": true
   },
   "outputs": [],
   "source": [
    "#  You can \"send\" values to a generator using the generator's send method\n",
    "# iteration is a list of power\n",
    "'''\n",
    "When you're using send to \"start\" a generator (that is, execute the code from the first line of the generator \n",
    "function up to the first yield statement) you must send None.\n",
    "'''\n",
    "\n",
    "def successive_prime(iterations, base):\n",
    "    prime_generator = prime_gen(base)\n",
    "    prime_generator.send(None)\n",
    "    for power in iterations:\n",
    "        print(prime_generator.send(base**power))"
   ]
  },
  {
   "cell_type": "code",
   "execution_count": null,
   "metadata": {
    "collapsed": true
   },
   "outputs": [],
   "source": [
    "successive_prime([1,2,3,4,5], 2)"
   ]
  },
  {
   "cell_type": "code",
   "execution_count": null,
   "metadata": {
    "collapsed": true
   },
   "outputs": [],
   "source": [
    "def odd_gen(num):\n",
    "    while True:\n",
    "        if num%2!=0:\n",
    "            yield num\n",
    "        num = num + 1"
   ]
  },
  {
   "cell_type": "code",
   "execution_count": null,
   "metadata": {
    "collapsed": true
   },
   "outputs": [],
   "source": [
    "def continuous_odd(base, power_list):\n",
    "    odd_generator = odd_gen(base)\n",
    "    odd_generator.send(None)\n",
    "    result_list = []\n",
    "    for power in power_list:\n",
    "        result_list.append(odd_generator.send(base**power))\n",
    "    return result_list\n",
    "        "
   ]
  }
 ],
 "metadata": {
  "kernelspec": {
   "display_name": "Python 3",
   "language": "python",
   "name": "python3"
  },
  "language_info": {
   "codemirror_mode": {
    "name": "ipython",
    "version": 3
   },
   "file_extension": ".py",
   "mimetype": "text/x-python",
   "name": "python",
   "nbconvert_exporter": "python",
   "pygments_lexer": "ipython3",
   "version": "3.6.5"
  }
 },
 "nbformat": 4,
 "nbformat_minor": 2
}
